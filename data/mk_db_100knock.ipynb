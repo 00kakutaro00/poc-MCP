{
 "cells": [
  {
   "cell_type": "code",
   "execution_count": 1,
   "id": "866e233e-982f-4f42-9e00-e1f02599d984",
   "metadata": {},
   "outputs": [],
   "source": [
    "import sqlite3\n",
    "import os\n",
    "from os.path import join, split\n",
    "import pandas as pd\n",
    "import glob\n"
   ]
  },
  {
   "cell_type": "code",
   "execution_count": 8,
   "id": "2993a89d-3a82-4afb-9465-7d6eeca32260",
   "metadata": {},
   "outputs": [
    {
     "ename": "OSError",
     "evalue": "\"/usr/local/bin/zsh\" shell not found",
     "output_type": "error",
     "traceback": [
      "\u001b[0;31m---------------------------------------------------------------------------\u001b[0m",
      "\u001b[0;31mOSError\u001b[0m                                   Traceback (most recent call last)",
      "Cell \u001b[0;32mIn[8], line 1\u001b[0m\n\u001b[0;32m----> 1\u001b[0m \u001b[43mget_ipython\u001b[49m\u001b[43m(\u001b[49m\u001b[43m)\u001b[49m\u001b[38;5;241;43m.\u001b[39;49m\u001b[43msystem\u001b[49m\u001b[43m(\u001b[49m\u001b[38;5;124;43m'\u001b[39;49m\u001b[38;5;124;43mcp -r 100knocks-preprocess/docker/work/data/100knocks_ER.png ./\u001b[39;49m\u001b[38;5;124;43m'\u001b[39;49m\u001b[43m)\u001b[49m\n",
      "File \u001b[0;32m~/anaconda3/envs/py39/lib/python3.9/site-packages/ipykernel/zmqshell.py:655\u001b[0m, in \u001b[0;36mZMQInteractiveShell.system_piped\u001b[0;34m(self, cmd)\u001b[0m\n\u001b[1;32m    653\u001b[0m         \u001b[38;5;28mself\u001b[39m\u001b[38;5;241m.\u001b[39muser_ns[\u001b[38;5;124m\"\u001b[39m\u001b[38;5;124m_exit_code\u001b[39m\u001b[38;5;124m\"\u001b[39m] \u001b[38;5;241m=\u001b[39m system(cmd)\n\u001b[1;32m    654\u001b[0m \u001b[38;5;28;01melse\u001b[39;00m:\n\u001b[0;32m--> 655\u001b[0m     \u001b[38;5;28mself\u001b[39m\u001b[38;5;241m.\u001b[39muser_ns[\u001b[38;5;124m\"\u001b[39m\u001b[38;5;124m_exit_code\u001b[39m\u001b[38;5;124m\"\u001b[39m] \u001b[38;5;241m=\u001b[39m \u001b[43msystem\u001b[49m\u001b[43m(\u001b[49m\u001b[38;5;28;43mself\u001b[39;49m\u001b[38;5;241;43m.\u001b[39;49m\u001b[43mvar_expand\u001b[49m\u001b[43m(\u001b[49m\u001b[43mcmd\u001b[49m\u001b[43m,\u001b[49m\u001b[43m \u001b[49m\u001b[43mdepth\u001b[49m\u001b[38;5;241;43m=\u001b[39;49m\u001b[38;5;241;43m1\u001b[39;49m\u001b[43m)\u001b[49m\u001b[43m)\u001b[49m\n",
      "File \u001b[0;32m~/anaconda3/envs/py39/lib/python3.9/site-packages/IPython/utils/_process_posix.py:148\u001b[0m, in \u001b[0;36mProcessHandler.system\u001b[0;34m(self, cmd)\u001b[0m\n\u001b[1;32m    146\u001b[0m     child \u001b[38;5;241m=\u001b[39m pexpect\u001b[38;5;241m.\u001b[39mspawnb(\u001b[38;5;28mself\u001b[39m\u001b[38;5;241m.\u001b[39msh, args\u001b[38;5;241m=\u001b[39m[\u001b[38;5;124m'\u001b[39m\u001b[38;5;124m-c\u001b[39m\u001b[38;5;124m'\u001b[39m, cmd]) \u001b[38;5;66;03m# Pexpect-U\u001b[39;00m\n\u001b[1;32m    147\u001b[0m \u001b[38;5;28;01melse\u001b[39;00m:\n\u001b[0;32m--> 148\u001b[0m     child \u001b[38;5;241m=\u001b[39m pexpect\u001b[38;5;241m.\u001b[39mspawn(\u001b[38;5;28;43mself\u001b[39;49m\u001b[38;5;241;43m.\u001b[39;49m\u001b[43msh\u001b[49m, args\u001b[38;5;241m=\u001b[39m[\u001b[38;5;124m'\u001b[39m\u001b[38;5;124m-c\u001b[39m\u001b[38;5;124m'\u001b[39m, cmd])  \u001b[38;5;66;03m# Vanilla Pexpect\u001b[39;00m\n\u001b[1;32m    149\u001b[0m flush \u001b[38;5;241m=\u001b[39m sys\u001b[38;5;241m.\u001b[39mstdout\u001b[38;5;241m.\u001b[39mflush\n\u001b[1;32m    150\u001b[0m \u001b[38;5;28;01mwhile\u001b[39;00m \u001b[38;5;28;01mTrue\u001b[39;00m:\n\u001b[1;32m    151\u001b[0m     \u001b[38;5;66;03m# res is the index of the pattern that caused the match, so we\u001b[39;00m\n\u001b[1;32m    152\u001b[0m     \u001b[38;5;66;03m# know whether we've finished (if we matched EOF) or not\u001b[39;00m\n",
      "File \u001b[0;32m~/anaconda3/envs/py39/lib/python3.9/site-packages/IPython/utils/_process_posix.py:57\u001b[0m, in \u001b[0;36mProcessHandler.sh\u001b[0;34m(self)\u001b[0m\n\u001b[1;32m     55\u001b[0m     \u001b[38;5;28mself\u001b[39m\u001b[38;5;241m.\u001b[39m_sh \u001b[38;5;241m=\u001b[39m pexpect\u001b[38;5;241m.\u001b[39mwhich(shell_name)\n\u001b[1;32m     56\u001b[0m     \u001b[38;5;28;01mif\u001b[39;00m \u001b[38;5;28mself\u001b[39m\u001b[38;5;241m.\u001b[39m_sh \u001b[38;5;129;01mis\u001b[39;00m \u001b[38;5;28;01mNone\u001b[39;00m:\n\u001b[0;32m---> 57\u001b[0m         \u001b[38;5;28;01mraise\u001b[39;00m \u001b[38;5;167;01mOSError\u001b[39;00m(\u001b[38;5;124m'\u001b[39m\u001b[38;5;124m\"\u001b[39m\u001b[38;5;132;01m{}\u001b[39;00m\u001b[38;5;124m\"\u001b[39m\u001b[38;5;124m shell not found\u001b[39m\u001b[38;5;124m'\u001b[39m\u001b[38;5;241m.\u001b[39mformat(shell_name))\n\u001b[1;32m     59\u001b[0m \u001b[38;5;28;01mreturn\u001b[39;00m \u001b[38;5;28mself\u001b[39m\u001b[38;5;241m.\u001b[39m_sh\n",
      "\u001b[0;31mOSError\u001b[0m: \"/usr/local/bin/zsh\" shell not found"
     ]
    }
   ],
   "source": [
    "!cp -r 100knocks-preprocess/docker/work/data/100knocks_ER.png ./"
   ]
  },
  {
   "cell_type": "code",
   "execution_count": 2,
   "id": "9d87b526-dd1e-44d2-9f70-59f700be744c",
   "metadata": {},
   "outputs": [],
   "source": [
    "csv_dir_path = \"./\"\n",
    "db_path = \"./100.db\""
   ]
  },
  {
   "cell_type": "code",
   "execution_count": 3,
   "id": "a97e1376-871e-4059-96bf-840442bef45a",
   "metadata": {},
   "outputs": [],
   "source": [
    "files = glob.glob(\"./100knocks-preprocess/docker/work/data/*.csv\")"
   ]
  },
  {
   "cell_type": "code",
   "execution_count": 5,
   "id": "9159dcbe-0c12-49f0-95ae-bbf589c3d475",
   "metadata": {},
   "outputs": [
    {
     "name": "stderr",
     "output_type": "stream",
     "text": [
      "/var/folders/hp/97_bfcts4m345bcx15cjr0bw0000gn/T/ipykernel_77469/1448873985.py:3: DtypeWarning: Columns (4) have mixed types. Specify dtype option on import or set low_memory=False.\n",
      "  df = pd.read_csv(file)\n"
     ]
    },
    {
     "name": "stdout",
     "output_type": "stream",
     "text": [
      "geocode\n",
      "customer\n",
      "receipt\n",
      "category\n",
      "store\n",
      "product\n"
     ]
    }
   ],
   "source": [
    "for file in files:\n",
    "    table_name = file.split(\"/\")[-1].split(\".\")[0]\n",
    "    df = pd.read_csv(file)\n",
    "    with sqlite3.connect( db_path ) as conn:\n",
    "        df.to_sql( table_name, con=conn )\n",
    "    print( table_name )"
   ]
  },
  {
   "cell_type": "code",
   "execution_count": 6,
   "id": "4aa39499-a866-47c8-9d3f-dedbf4f0ecba",
   "metadata": {},
   "outputs": [
    {
     "name": "stdout",
     "output_type": "stream",
     "text": [
      "('geocode',) ('customer',) ('receipt',) ('category',) ('store',) ('product',)\n"
     ]
    }
   ],
   "source": [
    "with sqlite3.connect( db_path ) as conn:\n",
    "    cur = conn.cursor()\n",
    "    cur.execute(\"SELECT name FROM sqlite_master WHERE type='table';\")\n",
    "    tables  = cur.fetchall()\n",
    "print( *tables )"
   ]
  },
  {
   "cell_type": "code",
   "execution_count": 7,
   "id": "2b5e4b04-9f4d-47c1-bf4c-a469ba441495",
   "metadata": {},
   "outputs": [
    {
     "name": "stdout",
     "output_type": "stream",
     "text": [
      "(0, '060-0000', '北海道', '札幌市中央区', None, None, None, '北海道札幌市中央区', 141.34103, 43.05513)\n",
      "(1, '064-0941', '北海道', '札幌市中央区', '旭ケ丘', None, None, '北海道札幌市中央区旭ケ丘', 141.31972, 43.04223)\n",
      "(2, '060-0042', '北海道', '札幌市中央区', '大通西', None, '１丁目', '北海道札幌市中央区大通西１丁目', 141.35637, 43.06102)\n",
      "(3, '060-0042', '北海道', '札幌市中央区', '大通西', None, '２丁目', '北海道札幌市中央区大通西２丁目', 141.35445, 43.0608)\n",
      "(4, '060-0042', '北海道', '札幌市中央区', '大通西', None, '３丁目', '北海道札幌市中央区大通西３丁目', 141.35275, 43.06086)\n",
      "#####################\n",
      "(0, 'CS021313000114', '大野 あや子', 1, '女性', '1981-04-29', 37, '259-1113', '神奈川県伊勢原市粟窪**********', 'S14021', 20150905, '0-00000000-0')\n",
      "(1, 'CS037613000071', '六角 雅彦', 9, '不明', '1952-04-01', 66, '136-0076', '東京都江東区南砂**********', 'S13037', 20150414, '0-00000000-0')\n",
      "(2, 'CS031415000172', '宇多田 貴美子', 1, '女性', '1976-10-04', 42, '151-0053', '東京都渋谷区代々木**********', 'S13031', 20150529, 'D-20100325-C')\n",
      "(3, 'CS028811000001', '堀井 かおり', 1, '女性', '1933-03-27', 86, '245-0016', '神奈川県横浜市泉区和泉町**********', 'S14028', 20160115, '0-00000000-0')\n",
      "(4, 'CS001215000145', '田崎 美紀', 1, '女性', '1995-03-29', 24, '144-0055', '東京都大田区仲六郷**********', 'S13001', 20170605, '6-20090929-2')\n",
      "#####################\n",
      "(0, 20181103, 1541203200, 'S14006', 112, 1, 'CS006214000001', 'P070305012', 1, 158)\n",
      "(1, 20181118, 1542499200, 'S13008', 1132, 2, 'CS008415000097', 'P070701017', 1, 81)\n",
      "(2, 20170712, 1499817600, 'S14028', 1102, 1, 'CS028414000014', 'P060101005', 1, 170)\n",
      "(3, 20190205, 1549324800, 'S14042', 1132, 1, 'ZZ000000000000', 'P050301001', 1, 25)\n",
      "(4, 20180821, 1534809600, 'S14025', 1102, 2, 'CS025415000050', 'P060102007', 1, 90)\n",
      "#####################\n",
      "(0, 4, '惣菜', 401, '御飯類', 40101, '弁当類')\n",
      "(1, 4, '惣菜', 401, '御飯類', 40102, '寿司類')\n",
      "(2, 4, '惣菜', 402, '佃煮類', 40201, '魚介佃煮類')\n",
      "(3, 4, '惣菜', 402, '佃煮類', 40202, '海草佃煮類')\n",
      "(4, 4, '惣菜', 402, '佃煮類', 40203, '野菜佃煮類')\n",
      "#####################\n",
      "(0, 'S12014', '千草台店', 12, '千葉県', '千葉県千葉市稲毛区千草台一丁目', 'チバケンチバシイナゲクチグサダイイッチョウメ', '043-123-4003', 140.118, 35.63559, 1698.0)\n",
      "(1, 'S13002', '国分寺店', 13, '東京都', '東京都国分寺市本多二丁目', 'トウキョウトコクブンジシホンダニチョウメ', '042-123-4008', 139.4802, 35.70566, 1735.0)\n",
      "(2, 'S14010', '菊名店', 14, '神奈川県', '神奈川県横浜市港北区菊名一丁目', 'カナガワケンヨコハマシコウホククキクナイッチョウメ', '045-123-4032', 139.6326, 35.50049, 1732.0)\n",
      "(3, 'S14033', '阿久和店', 14, '神奈川県', '神奈川県横浜市瀬谷区阿久和西一丁目', 'カナガワケンヨコハマシセヤクアクワニシイッチョウメ', '045-123-4043', 139.4961, 35.45918, 1495.0)\n",
      "(4, 'S14036', '相模原中央店', 14, '神奈川県', '神奈川県相模原市中央二丁目', 'カナガワケンサガミハラシチュウオウニチョウメ', '042-123-4045', 139.3716, 35.57327, 1679.0)\n",
      "#####################\n",
      "(0, 'P040101001', 4, 401, 40101, 198.0, 149.0)\n",
      "(1, 'P040101002', 4, 401, 40101, 218.0, 164.0)\n",
      "(2, 'P040101003', 4, 401, 40101, 230.0, 173.0)\n",
      "(3, 'P040101004', 4, 401, 40101, 248.0, 186.0)\n",
      "(4, 'P040101005', 4, 401, 40101, 268.0, 201.0)\n",
      "#####################\n"
     ]
    }
   ],
   "source": [
    "with sqlite3.connect( db_path ) as conn:\n",
    "    cur = conn.cursor()\n",
    "    cur.execute(\"SELECT name FROM sqlite_master WHERE type='table';\")\n",
    "    tables  = cur.fetchall()\n",
    "    for table in tables:\n",
    "        table_name = table[0]\n",
    "        cur.execute(f\"SELECT * FROM {table_name} LIMIT 5;\")\n",
    "        rows = cur.fetchall()\n",
    "        for row in rows:\n",
    "            print( row )\n",
    "        print( \"#####################\" )"
   ]
  },
  {
   "cell_type": "code",
   "execution_count": null,
   "id": "797d91a2-2d1d-45d6-83e7-e1b187530592",
   "metadata": {},
   "outputs": [],
   "source": []
  }
 ],
 "metadata": {
  "kernelspec": {
   "display_name": "Python 3 (ipykernel)",
   "language": "python",
   "name": "python3"
  },
  "language_info": {
   "codemirror_mode": {
    "name": "ipython",
    "version": 3
   },
   "file_extension": ".py",
   "mimetype": "text/x-python",
   "name": "python",
   "nbconvert_exporter": "python",
   "pygments_lexer": "ipython3",
   "version": "3.9.16"
  }
 },
 "nbformat": 4,
 "nbformat_minor": 5
}
